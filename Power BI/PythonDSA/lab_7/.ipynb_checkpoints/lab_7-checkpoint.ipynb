{
 "cells": [
  {
   "cell_type": "code",
   "execution_count": null,
   "id": "8d74b8a5",
   "metadata": {},
   "outputs": [],
   "source": [
    "import pandas as pd\n",
    "from sklearn.cluster import KMeans\n",
    "from sklearn.preprocessing import StandardScaler"
   ]
  },
  {
   "cell_type": "code",
   "execution_count": null,
   "id": "8e081b1f",
   "metadata": {},
   "outputs": [],
   "source": [
    "#Carrega os dados\n",
    "df_dsa = pd.read_csv('C:/Users/gustavo.gomes/Desktop/Cursos/Power BI/PythonDSA/lab_7/dados/dados_clientes.csv')"
   ]
  },
  {
   "cell_type": "code",
   "execution_count": null,
   "id": "6989ca4c",
   "metadata": {},
   "outputs": [],
   "source": [
    "df_dsa.head()"
   ]
  },
  {
   "cell_type": "code",
   "execution_count": null,
   "id": "a690c990",
   "metadata": {},
   "outputs": [],
   "source": [
    "type(df_dsa)"
   ]
  },
  {
   "cell_type": "code",
   "execution_count": null,
   "id": "2f93a98c",
   "metadata": {},
   "outputs": [],
   "source": [
    "df_dsa[['idade','renda_anual','pontuacao_gastos']].describe()"
   ]
  },
  {
   "cell_type": "markdown",
   "id": "67b03ab3",
   "metadata": {},
   "source": [
    "Pré-Processamento dos Dados"
   ]
  },
  {
   "cell_type": "code",
   "execution_count": null,
   "id": "87fc7937",
   "metadata": {},
   "outputs": [],
   "source": [
    "padronizador = StandardScaler()"
   ]
  },
  {
   "cell_type": "code",
   "execution_count": null,
   "id": "ebf319f7",
   "metadata": {},
   "outputs": [],
   "source": [
    "dados_padronizados = padronizador.fit_transform(df_dsa[['idade','renda_anual','pontuacao_gastos']])"
   ]
  },
  {
   "cell_type": "code",
   "execution_count": null,
   "id": "29829921",
   "metadata": {},
   "outputs": [],
   "source": [
    "print(dados_padronizados)"
   ]
  },
  {
   "cell_type": "code",
   "execution_count": null,
   "id": "8754c85c",
   "metadata": {},
   "outputs": [],
   "source": [
    "#Definido o número de clusters(k)\n",
    "k = 3"
   ]
  },
  {
   "cell_type": "code",
   "execution_count": null,
   "id": "de9aed47",
   "metadata": {},
   "outputs": [],
   "source": [
    "#Modelo Kmeans\n",
    "kmeans = KMeans(n_clusters = k)"
   ]
  },
  {
   "cell_type": "code",
   "execution_count": null,
   "id": "ee633ad7",
   "metadata": {},
   "outputs": [],
   "source": [
    "kmeans.fit(dados_padronizados)"
   ]
  },
  {
   "cell_type": "code",
   "execution_count": null,
   "id": "5e2d7e77",
   "metadata": {},
   "outputs": [],
   "source": [
    "df_dsa['cluster'] = kmeans.labels_"
   ]
  },
  {
   "cell_type": "code",
   "execution_count": null,
   "id": "4b33226b",
   "metadata": {},
   "outputs": [],
   "source": [
    "df_dsa.sample(10)"
   ]
  },
  {
   "cell_type": "code",
   "execution_count": null,
   "id": "8597f8ca",
   "metadata": {},
   "outputs": [],
   "source": [
    "df_dsa.to_csv('segmentos.csv', index = False)"
   ]
  },
  {
   "cell_type": "markdown",
   "id": "d6aab13e",
   "metadata": {},
   "source": [
    "Relatório Power BI"
   ]
  },
  {
   "cell_type": "code",
   "execution_count": null,
   "id": "2f09e10d",
   "metadata": {},
   "outputs": [],
   "source": [
    "!pip install -q powerbiclient"
   ]
  },
  {
   "cell_type": "code",
   "execution_count": null,
   "id": "17ae68e5",
   "metadata": {},
   "outputs": [],
   "source": [
    "from powerbiclient import QuickVisualize, get_dataset_config, Report\n",
    "from powerbiclient.authentication import DeviceCodeLoginAuthentication"
   ]
  },
  {
   "cell_type": "code",
   "execution_count": null,
   "id": "217f8c82",
   "metadata": {},
   "outputs": [],
   "source": [
    "device_auth = DeviceCodeLoginAuthentication()"
   ]
  },
  {
   "cell_type": "code",
   "execution_count": null,
   "id": "3062d5f3",
   "metadata": {},
   "outputs": [],
   "source": [
    "relatorio_PBI = QuickVisualize(get_dataset_config(df_dsa), auth = device_auth)"
   ]
  },
  {
   "cell_type": "code",
   "execution_count": null,
   "id": "4c4f869f",
   "metadata": {},
   "outputs": [],
   "source": [
    "relatorio_PBI"
   ]
  },
  {
   "cell_type": "code",
   "execution_count": null,
   "id": "df8d902b",
   "metadata": {},
   "outputs": [],
   "source": []
  }
 ],
 "metadata": {
  "kernelspec": {
   "display_name": "Python 3 (ipykernel)",
   "language": "python",
   "name": "python3"
  },
  "language_info": {
   "codemirror_mode": {
    "name": "ipython",
    "version": 3
   },
   "file_extension": ".py",
   "mimetype": "text/x-python",
   "name": "python",
   "nbconvert_exporter": "python",
   "pygments_lexer": "ipython3",
   "version": "3.11.5"
  }
 },
 "nbformat": 4,
 "nbformat_minor": 5
}
