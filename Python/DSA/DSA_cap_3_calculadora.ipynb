{
 "cells": [
  {
   "cell_type": "code",
   "execution_count": 17,
   "id": "7f6038e9",
   "metadata": {},
   "outputs": [
    {
     "name": "stdout",
     "output_type": "stream",
     "text": [
      "===========\n",
      "Calculadora\n",
      "===========\n",
      "Digite o 1° numero:8\n",
      "Digite o 2° numero:6\n",
      "Escolha a operação\n",
      "+\n",
      "-\n",
      "*\n",
      "/\n",
      "Simbolo da operação desejada:[\n",
      "Operação Inválida! Tente Novamente\n"
     ]
    }
   ],
   "source": [
    "print('===========')\n",
    "print('Calculadora')\n",
    "print('===========')\n",
    "\n",
    "n1 = float(input(\"Digite o 1° numero:\"))\n",
    "n2 = float(input(\"Digite o 2° numero:\"))\n",
    "\n",
    "print('Escolha a operação')\n",
    "print('+')\n",
    "print('-')\n",
    "print('*')\n",
    "print('/')\n",
    "\n",
    "op = input('Simbolo da operação desejada:')\n",
    "resultado = 0\n",
    "if op == '+':\n",
    "    resultado = n1 + n2\n",
    "    print(f'O resultado da soma é {resultado}')\n",
    "elif op == '-':\n",
    "    resultado = n1 - n2\n",
    "    print(f'O resultado da subtração é {resultado}')\n",
    "elif op == '*':\n",
    "    resultado = n1 * n2\n",
    "    print(f'O resultado da multiplicação é {resultado}')\n",
    "elif op == '/':\n",
    "    resultado = n1 / n2\n",
    "    print(f'O resultado da divisão é {resultado}')\n",
    "else:\n",
    "    print('Operação Inválida! Tente Novamente')\n",
    "    \n",
    "\n"
   ]
  }
 ],
 "metadata": {
  "kernelspec": {
   "display_name": "Python 3 (ipykernel)",
   "language": "python",
   "name": "python3"
  },
  "language_info": {
   "codemirror_mode": {
    "name": "ipython",
    "version": 3
   },
   "file_extension": ".py",
   "mimetype": "text/x-python",
   "name": "python",
   "nbconvert_exporter": "python",
   "pygments_lexer": "ipython3",
   "version": "3.11.5"
  }
 },
 "nbformat": 4,
 "nbformat_minor": 5
}
