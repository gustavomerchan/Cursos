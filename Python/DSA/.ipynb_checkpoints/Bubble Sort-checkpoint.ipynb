{
 "cells": [
  {
   "cell_type": "markdown",
   "id": "cf6ce506",
   "metadata": {},
   "source": [
    "# Criando lista aleatória"
   ]
  },
  {
   "cell_type": "code",
   "execution_count": 3,
   "id": "9277d74a",
   "metadata": {},
   "outputs": [],
   "source": [
    "import random\n",
    "\n",
    "lista = []\n",
    "\n",
    "for i in range (0,101):\n",
    "    n = random.randint(1,999)\n",
    "    lista.append(n)"
   ]
  },
  {
   "cell_type": "code",
   "execution_count": 4,
   "id": "1ffc6d61",
   "metadata": {},
   "outputs": [
    {
     "name": "stdout",
     "output_type": "stream",
     "text": [
      "[248, 645, 165, 61, 74, 920, 297, 318, 42, 226, 978, 451, 912, 337, 886, 621, 378, 818, 510, 454, 896, 749, 201, 973, 348, 735, 518, 324, 59, 409, 571, 716, 408, 383, 202, 714, 280, 410, 77, 112, 206, 229, 127, 141, 814, 663, 145, 647, 353, 695, 819, 273, 291, 504, 454, 543, 565, 579, 560, 860, 961, 82, 985, 443, 924, 800, 840, 580, 299, 648, 685, 414, 301, 729, 252, 937, 758, 851, 322, 349, 716, 748, 864, 793, 353, 5, 15, 123, 833, 962, 470, 871, 751, 269, 371, 353, 793, 394, 467, 667, 603]\n"
     ]
    }
   ],
   "source": [
    "print(lista)"
   ]
  },
  {
   "cell_type": "code",
   "execution_count": 5,
   "id": "e1f1905a",
   "metadata": {},
   "outputs": [
    {
     "name": "stdout",
     "output_type": "stream",
     "text": [
      "101\n"
     ]
    }
   ],
   "source": [
    "print(len(lista))"
   ]
  },
  {
   "cell_type": "markdown",
   "id": "af018340",
   "metadata": {},
   "source": [
    "# Criando a função Bubble Sort"
   ]
  },
  {
   "cell_type": "code",
   "execution_count": 9,
   "id": "242a8e76",
   "metadata": {},
   "outputs": [],
   "source": [
    "def bubble_sort(arr):\n",
    "    num_elementos = len(arr)\n",
    "    \n",
    "    #para cada elemento i do array\n",
    "    \n",
    "    for i in range(num_elementos):\n",
    "        \n",
    "        #para cada elemento do j do array\n",
    "        for j in range(0,num_elementos-i-1):\n",
    "            \n",
    "            #Compara os elementos\n",
    "            if arr[j] > arr[j+1]:\n",
    "                 arr[j], arr[j+1] = arr[j+1],arr[j]\n",
    "    return arr"
   ]
  },
  {
   "cell_type": "code",
   "execution_count": 11,
   "id": "51b4db6f",
   "metadata": {},
   "outputs": [],
   "source": [
    "lista_ordenada = bubble_sort(lista)"
   ]
  },
  {
   "cell_type": "code",
   "execution_count": 12,
   "id": "b762f592",
   "metadata": {},
   "outputs": [
    {
     "name": "stdout",
     "output_type": "stream",
     "text": [
      "[5, 15, 42, 59, 61, 74, 77, 82, 112, 123, 127, 141, 145, 165, 201, 202, 206, 226, 229, 248, 252, 269, 273, 280, 291, 297, 299, 301, 318, 322, 324, 337, 348, 349, 353, 353, 353, 371, 378, 383, 394, 408, 409, 410, 414, 443, 451, 454, 454, 467, 470, 504, 510, 518, 543, 560, 565, 571, 579, 580, 603, 621, 645, 647, 648, 663, 667, 685, 695, 714, 716, 716, 729, 735, 748, 749, 751, 758, 793, 793, 800, 814, 818, 819, 833, 840, 851, 860, 864, 871, 886, 896, 912, 920, 924, 937, 961, 962, 973, 978, 985]\n"
     ]
    }
   ],
   "source": [
    "print(lista_ordenada)"
   ]
  },
  {
   "cell_type": "code",
   "execution_count": 16,
   "id": "09ad7bfc",
   "metadata": {},
   "outputs": [],
   "source": [
    "lista_2 = []\n",
    "\n",
    "for i in range(0,50):\n",
    "    n = random.randint(0,69)\n",
    "    lista_2.append(n)\n",
    "    "
   ]
  },
  {
   "cell_type": "code",
   "execution_count": 17,
   "id": "9bf82124",
   "metadata": {},
   "outputs": [
    {
     "name": "stdout",
     "output_type": "stream",
     "text": [
      "[42, 52, 3, 22, 16, 1, 65, 33, 64, 66, 45, 29, 17, 17, 24, 10, 35, 31, 27, 54, 46, 46, 29, 25, 47, 18, 21, 16, 18, 48, 66, 6, 38, 60, 34, 50, 57, 32, 2, 62, 36, 53, 23, 65, 49, 25, 6, 23, 26, 59]\n"
     ]
    }
   ],
   "source": [
    "print(lista_2)"
   ]
  },
  {
   "cell_type": "code",
   "execution_count": 18,
   "id": "fc4f3758",
   "metadata": {},
   "outputs": [
    {
     "name": "stdout",
     "output_type": "stream",
     "text": [
      "[1, 2, 3, 6, 6, 10, 16, 16, 17, 17, 18, 18, 21, 22, 23, 23, 24, 25, 25, 26, 27, 29, 29, 31, 32, 33, 34, 35, 36, 38, 42, 45, 46, 46, 47, 48, 49, 50, 52, 53, 54, 57, 59, 60, 62, 64, 65, 65, 66, 66]\n"
     ]
    }
   ],
   "source": [
    "print(bubble_sort(lista_2))"
   ]
  }
 ],
 "metadata": {
  "kernelspec": {
   "display_name": "Python 3 (ipykernel)",
   "language": "python",
   "name": "python3"
  },
  "language_info": {
   "codemirror_mode": {
    "name": "ipython",
    "version": 3
   },
   "file_extension": ".py",
   "mimetype": "text/x-python",
   "name": "python",
   "nbconvert_exporter": "python",
   "pygments_lexer": "ipython3",
   "version": "3.11.5"
  }
 },
 "nbformat": 4,
 "nbformat_minor": 5
}
