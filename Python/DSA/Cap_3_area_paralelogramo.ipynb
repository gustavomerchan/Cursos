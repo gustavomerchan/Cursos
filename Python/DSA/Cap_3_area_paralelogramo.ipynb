{
 "cells": [
  {
   "cell_type": "code",
   "execution_count": 1,
   "id": "84a2ec99",
   "metadata": {},
   "outputs": [
    {
     "name": "stdout",
     "output_type": "stream",
     "text": [
      "Bem Vindo ao Calculador de Área de Paralelogramos\n",
      "-------------------------------------------------\n",
      "Medida da base:10\n",
      "Medida da altura:60\n",
      "O valor da área é de 600.0\n"
     ]
    }
   ],
   "source": [
    "print('Bem Vindo ao Calculador de Área de Paralelogramos')\n",
    "print('-------------------------------------------------')\n",
    "base = float(input('Medida da base:'))\n",
    "altura = float(input('Medida da altura:'))\n",
    "area = base * altura\n",
    "\n",
    "print(f'O valor da área é de {area}')"
   ]
  },
  {
   "cell_type": "code",
   "execution_count": null,
   "id": "c4c7b6e7",
   "metadata": {},
   "outputs": [],
   "source": []
  }
 ],
 "metadata": {
  "kernelspec": {
   "display_name": "Python 3 (ipykernel)",
   "language": "python",
   "name": "python3"
  },
  "language_info": {
   "codemirror_mode": {
    "name": "ipython",
    "version": 3
   },
   "file_extension": ".py",
   "mimetype": "text/x-python",
   "name": "python",
   "nbconvert_exporter": "python",
   "pygments_lexer": "ipython3",
   "version": "3.11.5"
  }
 },
 "nbformat": 4,
 "nbformat_minor": 5
}
